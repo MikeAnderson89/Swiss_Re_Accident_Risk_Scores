{
 "cells": [
  {
   "cell_type": "code",
   "execution_count": null,
   "metadata": {},
   "outputs": [],
   "source": [
    "import pandas as pd\n",
    "import numpy as np\n",
    "from bayes_opt import BayesianOptimization\n",
    "from sklearn.ensemble import RandomForestRegressor\n",
    "from sklearn.model_selection import cross_val_score\n",
    "from Data_Processing import DataProcessing\n",
    "from sklearn.metrics import mean_squared_error\n",
    "from sklearn.model_selection import train_test_split"
   ]
  },
  {
   "cell_type": "code",
   "execution_count": null,
   "metadata": {},
   "outputs": [],
   "source": [
    "pop = pd.read_csv('../Data/population.csv')\n",
    "train = pd.read_csv('../Data/train.csv')\n",
    "test = pd.read_csv('../Data/test.csv')"
   ]
  },
  {
   "cell_type": "code",
   "execution_count": null,
   "metadata": {},
   "outputs": [],
   "source": [
    "X, y, test = DataProcessing(train, test, pop)\n",
    "y = y.ravel()"
   ]
  },
  {
   "cell_type": "code",
   "execution_count": null,
   "metadata": {},
   "outputs": [],
   "source": [
    "X_train, X_test, y_train, y_test = train_test_split(X, y, test_size=0.2, random_state=42)"
   ]
  },
  {
   "cell_type": "code",
   "execution_count": null,
   "metadata": {},
   "outputs": [],
   "source": [
    "#Bayesian optimization\n",
    "def bayesian_optimization(dataset, function, parameters):\n",
    "   X_train, y_train, X_test, y_test = dataset\n",
    "   n_iterations = 5\n",
    "   gp_params = {\"alpha\": 1e-4}\n",
    "\n",
    "   BO = BayesianOptimization(function, parameters)\n",
    "   BO.minimize(n_iter=n_iterations, **gp_params)\n",
    "\n",
    "   return BO.min"
   ]
  },
  {
   "cell_type": "code",
   "execution_count": null,
   "metadata": {},
   "outputs": [],
   "source": [
    "def rfc_optimization(cv_splits):\n",
    "    def function(n_estimators, max_depth, min_samples_split):\n",
    "        return cross_val_score(\n",
    "               RandomForestRegressor(\n",
    "                   n_estimators=int(max(n_estimators,0)),                                                               \n",
    "                   max_depth=int(max(max_depth,1)),\n",
    "                   min_samples_split=int(max(min_samples_split,2)), \n",
    "                   n_jobs=-1, \n",
    "                   random_state=42),  \n",
    "               X=X_train, \n",
    "               y=y_train, \n",
    "               cv=cv_splits,\n",
    "               scoring=\"mean_squared_error\",\n",
    "               n_jobs=-1).mean()\n",
    "\n",
    "    parameters = {\"n_estimators\": (10, 1000),\n",
    "                  \"max_depth\": (1, 150),\n",
    "                  \"min_samples_split\": (2, 10)\n",
    "#                  \"criterion\": ('squared_error', 'absolute_error', 'poisson'),\n",
    "#                  'bootstrap': (True, False)\n",
    "                 }\n",
    "    \n",
    "    return function, parameters"
   ]
  },
  {
   "cell_type": "code",
   "execution_count": 14,
   "metadata": {},
   "outputs": [],
   "source": [
    "def xgb_optimization(cv_splits, eval_set):\n",
    "    def function(eta, gamma, max_depth):\n",
    "            return cross_val_score(\n",
    "                   xgb.XGBClassifier(\n",
    "                       objective=\"binary:logistic\",\n",
    "                       learning_rate=max(eta, 0),\n",
    "                       gamma=max(gamma, 0),\n",
    "                       max_depth=int(max_depth),                                               \n",
    "                       seed=42,\n",
    "                       nthread=-1,\n",
    "                       scale_pos_weight = len(y_train[y_train == 0])/\n",
    "                                          len(y_train[y_train == 1])),  \n",
    "                   X=X_train, \n",
    "                   y=y_train, \n",
    "                   cv=cv_splits,\n",
    "                   scoring=\"roc_auc\",\n",
    "                   fit_params={\n",
    "                        \"early_stopping_rounds\": 10, \n",
    "                        \"eval_metric\": \"auc\", \n",
    "                        \"eval_set\": eval_set},\n",
    "                   n_jobs=-1).mean()\n",
    "\n",
    "    parameters = {\"eta\": (0.001, 0.4),\n",
    "                  \"gamma\": (0, 20),\n",
    "                  \"max_depth\": (1, 2000),\n",
    "                 \"criterion\": ('squared_error', 'absolute_error', 'poisson'),\n",
    "                 'bootstrap': (True, False),\n",
    "                 }\n",
    "    \n",
    "    return function, parameters"
   ]
  },
  {
   "cell_type": "code",
   "execution_count": 22,
   "metadata": {},
   "outputs": [],
   "source": [
    "#Train model\n",
    "def train(X_train, y_train, X_test, y_test, function, parameters):\n",
    "    dataset = (X_train, y_train, X_test, y_test)\n",
    "    cv_splits = 4\n",
    "    \n",
    "    best_solution = bayesian_optimization(dataset, function, parameters)      \n",
    "    params = best_solution[\"params\"]\n",
    "\n",
    "    model = RandomForestRegressor(\n",
    "             n_estimators=int(max(params[\"n_estimators\"], 0)),\n",
    "             max_depth=int(max(params[\"max_depth\"], 1)),\n",
    "             min_samples_split=int(max(params[\"min_samples_split\"], 2)), \n",
    "             n_jobs=-1, \n",
    "             random_state=42)\n",
    "\n",
    "    model.fit(X_train, y_train)\n",
    "    \n",
    "    return model"
   ]
  },
  {
   "cell_type": "code",
   "execution_count": 23,
   "metadata": {},
   "outputs": [],
   "source": [
    "rfc, params = rfc_optimization(4)"
   ]
  },
  {
   "cell_type": "code",
   "execution_count": null,
   "metadata": {},
   "outputs": [
    {
     "name": "stdout",
     "output_type": "stream",
     "text": [
      "|   iter    |  target   | max_depth | min_sa... | n_esti... |\n",
      "-------------------------------------------------------------\n"
     ]
    }
   ],
   "source": [
    "model = train(X_train, y_train, X_test, y_test, rfc, params)"
   ]
  },
  {
   "cell_type": "code",
   "execution_count": null,
   "metadata": {},
   "outputs": [],
   "source": [
    "y_true = y_test\n",
    "y_pred = model.predict(X_test)\n",
    "\n",
    "mean_squared_error(y_true, y_pred)"
   ]
  },
  {
   "cell_type": "code",
   "execution_count": null,
   "metadata": {},
   "outputs": [],
   "source": []
  }
 ],
 "metadata": {
  "kernelspec": {
   "display_name": "Python 3",
   "language": "python",
   "name": "python3"
  },
  "language_info": {
   "codemirror_mode": {
    "name": "ipython",
    "version": 3
   },
   "file_extension": ".py",
   "mimetype": "text/x-python",
   "name": "python",
   "nbconvert_exporter": "python",
   "pygments_lexer": "ipython3",
   "version": "3.8.3"
  }
 },
 "nbformat": 4,
 "nbformat_minor": 4
}
